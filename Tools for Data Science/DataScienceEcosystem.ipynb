{
 "cells": [
  {
   "cell_type": "markdown",
   "id": "cf156ad5-1470-4fd1-ba72-89bf3088b59a",
   "metadata": {},
   "source": [
    "# Data Science Tools and Ecosystem"
   ]
  },
  {
   "cell_type": "markdown",
   "id": "36d926dc-e577-4759-9fdb-88aad4864f89",
   "metadata": {},
   "source": [
    "In this notebook, Data Science Tools and Ecosystem are summarized"
   ]
  },
  {
   "cell_type": "markdown",
   "id": "c0aa24d9-5c1f-4f1e-b303-b53a0a263f98",
   "metadata": {},
   "source": [
    "**Objective:**\n",
    "\n",
    "- Know an Overview of Data Science Tools\n",
    "- Know the Languages in Data Science\n",
    "- Know Packages, APIs, Data Sets and Models  \n",
    "- Know Jupyter Notebooks and JupyterLab \n",
    "- Know RStudio and GitHub"
   ]
  },
  {
   "cell_type": "markdown",
   "id": "55320a53-cf9a-4e44-997f-ff465e4b5fe3",
   "metadata": {},
   "source": [
    "Some of the popular languages that Data Scientists use are:\n",
    "1. Python\n",
    "2. R\n",
    "3. SQL"
   ]
  },
  {
   "cell_type": "markdown",
   "id": "237356da-4233-4e62-a6ad-992f9f72da6f",
   "metadata": {},
   "source": [
    "Some of the commonly used libraries used by Data Scientists include:\n",
    "1. Pandas\n",
    "2. Scikit-learn\n",
    "3. Numpy"
   ]
  },
  {
   "cell_type": "markdown",
   "id": "bb4c3d4e-6ca3-4af9-91b3-c8a74e9263e2",
   "metadata": {},
   "source": [
    "|Data Science Tools|\n",
    "|-|\n",
    "|Rstudio|\n",
    "|Pyhton|\n",
    "|Hadoop|"
   ]
  },
  {
   "cell_type": "markdown",
   "id": "08209247-7073-4691-a4bb-f3afb6ce7544",
   "metadata": {},
   "source": [
    "### Below are a few examples of evaluating arithmetic expressions in Python"
   ]
  },
  {
   "cell_type": "code",
   "execution_count": 3,
   "id": "3416203d-a150-4976-903f-95db4fd16b40",
   "metadata": {},
   "outputs": [
    {
     "data": {
      "text/plain": [
       "17"
      ]
     },
     "execution_count": 3,
     "metadata": {},
     "output_type": "execute_result"
    }
   ],
   "source": [
    "#This a simple arithmetic expression to mutiply then add integers\n",
    "(3*4)+5"
   ]
  },
  {
   "cell_type": "code",
   "execution_count": 4,
   "id": "53f42790-2708-456e-9a68-b41e723f540d",
   "metadata": {},
   "outputs": [
    {
     "data": {
      "text/plain": [
       "12000"
      ]
     },
     "execution_count": 4,
     "metadata": {},
     "output_type": "execute_result"
    }
   ],
   "source": [
    "#This will convert 200 minutes to hours by diving by 60\n",
    "200*60"
   ]
  },
  {
   "cell_type": "markdown",
   "id": "c5c8a291-d330-43f8-93d6-8c1cc535d833",
   "metadata": {},
   "source": [
    "## Author\n",
    "Muhammad Umar Baihaki"
   ]
  },
  {
   "cell_type": "code",
   "execution_count": null,
   "id": "4ebdd044-3515-4931-a167-30883f4eccaa",
   "metadata": {},
   "outputs": [],
   "source": []
  }
 ],
 "metadata": {
  "kernelspec": {
   "display_name": "Python 3 (ipykernel)",
   "language": "python",
   "name": "python3"
  },
  "language_info": {
   "codemirror_mode": {
    "name": "ipython",
    "version": 3
   },
   "file_extension": ".py",
   "mimetype": "text/x-python",
   "name": "python",
   "nbconvert_exporter": "python",
   "pygments_lexer": "ipython3",
   "version": "3.11.4"
  }
 },
 "nbformat": 4,
 "nbformat_minor": 5
}
